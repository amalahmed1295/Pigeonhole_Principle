{
  "nbformat": 4,
  "nbformat_minor": 0,
  "metadata": {
    "colab": {
      "provenance": [],
      "authorship_tag": "ABX9TyM3mu/27QnsXr2AnxcDLe3a",
      "include_colab_link": true
    },
    "kernelspec": {
      "name": "python3",
      "display_name": "Python 3"
    },
    "language_info": {
      "name": "python"
    }
  },
  "cells": [
    {
      "cell_type": "markdown",
      "metadata": {
        "id": "view-in-github",
        "colab_type": "text"
      },
      "source": [
        "<a href=\"https://colab.research.google.com/github/amalahmed1295/Probability_Principles1/blob/main/probability_combinations.ipynb\" target=\"_parent\"><img src=\"https://colab.research.google.com/assets/colab-badge.svg\" alt=\"Open In Colab\"/></a>"
      ]
    },
    {
      "cell_type": "markdown",
      "source": [
        "# Combination Problem\n",
        "Compute the probability of randomly drawing five cards from a deck and getting exactly one Ace.\n",
        "\n",
        "\n",
        "**solve**:\n",
        "\n",
        "In many card games (such as poker) the order in which the cards are drawn is not important (since the player may rearrange the cards in his hand any way he chooses); in the problems that follow, we will assume that this is the case unless otherwise stated. Thus we use combinations to compute the possible number of 5-card hands,\n",
        "\n",
        "52C5. This number will go in the denominator of our probability formula, since it is the number of possible outcomes.\n",
        "\n",
        "For the numerator, we need the number of ways to draw one Ace and four other cards (none of them Aces) from the deck. Since there are four Aces and we want exactly one of them, there will be\n",
        "\n",
        "4C1 ways to select one Ace; since there are 48 non-Aces and we want 4 of them, there will be 48C4 ways to select the four non-Aces. Now we use the Basic Counting Rule to calculate that there will be 4C1 × 48C4 ways to choose one ace and four non-Aces.\n",
        "\n",
        "Putting this all together, we have: P(one Ace) = (4C1 × 48C4)/52C5 ≈ 0.299\n",
        "\n",
        "The code is as following:"
      ],
      "metadata": {
        "id": "6JZJ1KEx3E_l"
      }
    },
    {
      "cell_type": "code",
      "execution_count": 2,
      "metadata": {
        "colab": {
          "base_uri": "https://localhost:8080/"
        },
        "id": "ipCFbprE2nVw",
        "outputId": "af117c85-1cdb-4fa5-a43a-d0178183cd18"
      },
      "outputs": [
        {
          "output_type": "stream",
          "name": "stdout",
          "text": [
            "Probability of drawing exactly one Ace: 0.2994736356080894\n"
          ]
        }
      ],
      "source": [
        "import math\n",
        "\n",
        "# Define the function to calculate combinations\n",
        "def combination(n, r):\n",
        "    return math.factorial(n) // (math.factorial(r) * math.factorial(n - r))\n",
        "\n",
        "# Total number of cards in a deck\n",
        "total_cards = 52\n",
        "\n",
        "# Number of Aces in the deck\n",
        "aces = 4\n",
        "\n",
        "# Number of non-Aces in the deck\n",
        "non_aces = total_cards - aces\n",
        "\n",
        "# Number of cards to draw\n",
        "drawn_cards = 5\n",
        "\n",
        "# Number of ways to draw exactly one Ace\n",
        "ways_one_ace = combination(aces, 1)\n",
        "\n",
        "# Number of ways to draw four non-Aces\n",
        "ways_four_non_aces = combination(non_aces, drawn_cards - 1)\n",
        "\n",
        "# Total number of possible 5-card hands\n",
        "total_hands = combination(total_cards, drawn_cards)\n",
        "\n",
        "# Probability of drawing exactly one Ace\n",
        "probability_one_ace = (ways_one_ace * ways_four_non_aces) / total_hands\n",
        "\n",
        "# Print the result\n",
        "print(\"Probability of drawing exactly one Ace:\", probability_one_ace)"
      ]
    }
  ]
}