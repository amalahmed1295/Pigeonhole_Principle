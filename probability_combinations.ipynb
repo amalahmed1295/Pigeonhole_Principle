{
  "nbformat": 4,
  "nbformat_minor": 0,
  "metadata": {
    "colab": {
      "provenance": [],
      "authorship_tag": "ABX9TyNirNt6DJuOZ1Wf28PnxcKF",
      "include_colab_link": true
    },
    "kernelspec": {
      "name": "python3",
      "display_name": "Python 3"
    },
    "language_info": {
      "name": "python"
    }
  },
  "cells": [
    {
      "cell_type": "markdown",
      "metadata": {
        "id": "view-in-github",
        "colab_type": "text"
      },
      "source": [
        "<a href=\"https://colab.research.google.com/github/amalahmed1295/Probability_Principles1/blob/main/probability_combinations.ipynb\" target=\"_parent\"><img src=\"https://colab.research.google.com/assets/colab-badge.svg\" alt=\"Open In Colab\"/></a>"
      ]
    },
    {
      "cell_type": "markdown",
      "source": [
        "# Combination Problem\n",
        "In university, a reading section in an English exam has seven essays and you must answer four of them. How many combinations can be made?\n",
        "\n",
        "**solve**:\n",
        "\n",
        "To determine how many combinations can be made when selecting 4 essays out of 7 on an English exam, we can use the concept of combinations from combinatorial mathematics. The number of ways to choose 4 essays out of 7 is calculated using the formula: n!/k!(n-k)!\n",
        "\n",
        "In this case,\n",
        "n = 7\n",
        "n = 4\n",
        "Let's calculate this step by step:\n",
        "\n",
        "Calculate 7!:\n",
        "7!=7x6x5x4x3x2x1=5,040\n",
        "\n",
        "Calculate 4!:\n",
        "4!=4x3x2x1=24\n",
        "\n",
        "Calculate (7-4)!=3!:\n",
        "3!=3x2x1=6\n",
        "\n",
        "Plug these values into the formula:\n",
        "7!/4!(7-4)! = 5,040/24x6 = 5,040/144 = 35\n",
        "\n",
        "Thus, the number of ways to choose 4 essays out of 7 is 35.\n",
        "\n",
        "The code is as following:"
      ],
      "metadata": {
        "id": "6JZJ1KEx3E_l"
      }
    },
    {
      "cell_type": "code",
      "execution_count": 1,
      "metadata": {
        "colab": {
          "base_uri": "https://localhost:8080/"
        },
        "id": "ipCFbprE2nVw",
        "outputId": "05a07445-329e-47a3-86bd-c70b876dc8a8"
      },
      "outputs": [
        {
          "output_type": "stream",
          "name": "stdout",
          "text": [
            "The number of ways to choose 4 essays out of 7 is: 35\n"
          ]
        }
      ],
      "source": [
        "#importing important library\n",
        "import math\n",
        "\n",
        "# Define the total number of essays and the number to choose\n",
        "total_essays = 7\n",
        "essays_to_choose = 4\n",
        "\n",
        "# Calculate the binomial coefficient using factorials\n",
        "combinations = math.factorial(total_essays) // (math.factorial(essays_to_choose) * math.factorial(total_essays - essays_to_choose))\n",
        "\n",
        "# Print the result\n",
        "print(f\"The number of ways to choose {essays_to_choose} essays out of {total_essays} is: {combinations}\")"
      ]
    }
  ]
}