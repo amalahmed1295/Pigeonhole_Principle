{
  "nbformat": 4,
  "nbformat_minor": 0,
  "metadata": {
    "colab": {
      "provenance": [],
      "authorship_tag": "ABX9TyMF0DC/d3q+JGuXfqxyDJ6Z",
      "include_colab_link": true
    },
    "kernelspec": {
      "name": "python3",
      "display_name": "Python 3"
    },
    "language_info": {
      "name": "python"
    }
  },
  "cells": [
    {
      "cell_type": "markdown",
      "metadata": {
        "id": "view-in-github",
        "colab_type": "text"
      },
      "source": [
        "<a href=\"https://colab.research.google.com/github/amalahmed1295/Probability_Principles1/blob/main/permutations.ipynb\" target=\"_parent\"><img src=\"https://colab.research.google.com/assets/colab-badge.svg\" alt=\"Open In Colab\"/></a>"
      ]
    },
    {
      "cell_type": "markdown",
      "source": [
        "# Permutation Problem\n",
        "\n",
        "A 4 digit PIN number is selected. What is the probability that there are no repeated digits?\n",
        "\n",
        "**Solve**:\n",
        "\n",
        "There are 10 possible values for each digit of the PIN (namely: 0, 1, 2, 3, 4, 5, 6, 7, 8, 9), so there are 10 · 10 · 10 · 10 = 10^4 = 10000 total possible PIN numbers.\n",
        "\n",
        "To have no repeated digits, all four digits would have to be different, which is selecting without replacement. It is computed in this way: 10 · 9 · 8 · 7, which is equale to the the permutation 10!/(10-4)! = 10!/6! = 5040.\n",
        "\n",
        "The probability of no repeated digits is the number of 4 digit PIN numbers with no repeated digits divided by the total number of 4 digit PIN numbers. This probability is : P(4  no repeated digits)=5040/10000 = 0.504.\n",
        "\n",
        "The code is as following:"
      ],
      "metadata": {
        "id": "ur1ZY9sYAk-W"
      }
    },
    {
      "cell_type": "code",
      "execution_count": 3,
      "metadata": {
        "colab": {
          "base_uri": "https://localhost:8080/"
        },
        "id": "0Y7QGPhf78dr",
        "outputId": "b4126c96-e94c-45ed-9ae4-a22842e931b4"
      },
      "outputs": [
        {
          "output_type": "stream",
          "name": "stdout",
          "text": [
            "Probability that there are no repeated digits in a 4-digit PIN number: 0.504\n"
          ]
        }
      ],
      "source": [
        "import math\n",
        "\n",
        "# Total number of digits (0 to 9)\n",
        "total_digits = 10\n",
        "\n",
        "# Calculate the number of permutations of 4 digits without repetition\n",
        "permutations_no_repetition = math.factorial(total_digits) // math.factorial(total_digits - 4)\n",
        "\n",
        "# Total number of possible 4-digit PIN numbers\n",
        "total_pins = total_digits ** 4\n",
        "\n",
        "# Calculate the probability\n",
        "p_4_no_repeated_dig = permutations_no_repetition / total_pins\n",
        "\n",
        "# Print the result\n",
        "print(\"Probability that there are no repeated digits in a 4-digit PIN number:\", p_4_no_repeated_dig)"
      ]
    }
  ]
}