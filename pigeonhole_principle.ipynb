{
  "nbformat": 4,
  "nbformat_minor": 0,
  "metadata": {
    "colab": {
      "provenance": [],
      "toc_visible": true,
      "authorship_tag": "ABX9TyMRprnZreddQsjkGZa7E1bY",
      "include_colab_link": true
    },
    "kernelspec": {
      "name": "python3",
      "display_name": "Python 3"
    },
    "language_info": {
      "name": "python"
    }
  },
  "cells": [
    {
      "cell_type": "markdown",
      "metadata": {
        "id": "view-in-github",
        "colab_type": "text"
      },
      "source": [
        "<a href=\"https://colab.research.google.com/github/amalahmed1295/Probability_Principles1/blob/main/pigeonhole_principle.ipynb\" target=\"_parent\"><img src=\"https://colab.research.google.com/assets/colab-badge.svg\" alt=\"Open In Colab\"/></a>"
      ]
    },
    {
      "cell_type": "markdown",
      "source": [
        "Pigeonhole Principle\n",
        "\n",
        "In mathematics, the pigeonhole principle states that if n items are put into m containers, with n > m, then at least one container must contain more than one item. This means n/m ≈ 2 (by rounding up).\n",
        "\n",
        "To clarify this principle, let us take the following example:\n",
        "\n",
        "Suppose that there are 10 high school students, and each student has to choose at least one favorite subject from the nine given subjects: \"Qura'an\", \"Islamic\", \"Math\", \"History\", \"Geography\", \"Reading\", \"Literature and Rhetoric\", \"Sciences\", and \"English\". Note that a student is not allowed to choose more than one subject, and at the same time, he has to choose from the given subjects only. As long as we have 10 students and 9 subjects, at least one student will choose the same favorite subject as another student. In other words, there will be at least one duplicated subject in the form of n/m ≈ 2. The following code implements this example:"
      ],
      "metadata": {
        "id": "_uvrfmut11af"
      }
    },
    {
      "cell_type": "code",
      "execution_count": null,
      "metadata": {
        "colab": {
          "base_uri": "https://localhost:8080/"
        },
        "id": "eZwkx_iQ1afr",
        "outputId": "cbd4de2f-6a1d-4206-dc18-1f590d8e7014"
      },
      "outputs": [
        {
          "output_type": "stream",
          "name": "stdout",
          "text": [
            "Among the given subjects: [\"qura'an\", 'islamic', 'math', 'history', 'geography', 'reading', 'literature and rhetoric', 'sciences', 'english'], choose one favorite subject only:\n",
            "Student '1': programming\n",
            "Please choose one of the given subjects only!\n",
            "Student '1': qura'an\n",
            "Student '2': islamic\n",
            "Student '3': math\n",
            "Student '4': history\n",
            "Student '5': reading\n",
            "Student '6': GEOGRAPGY\n",
            "Please choose one of the given subjects only!\n",
            "Student '6': GEOGRAPhY\n",
            "Student '7': literature and rhetoric\n",
            "Student '8': sciences\n",
            "Student '9': english\n",
            "Student '10': geography\n",
            "Repeated subjects and their counts:\n",
            "geography: 2\n",
            "Among 10 students, 2 students have chosen the same subjects as their favourite subject, which means at least one subject has been chosen twice.\n"
          ]
        }
      ],
      "source": [
        "## pigeonhole principle: Finding how many students have chosen the same\n",
        "## subject(proving that at least one subject has the propability of M/N)\n",
        "\n",
        "# Calculate the appearance of subjects\n",
        "def calculate_repeated_subjects(subjects):\n",
        "    # Create a dictionary to store the count of each subject\n",
        "    subject_count = dict()\n",
        "    # count to ensure if there is at least one subject has been repeated or not\n",
        "    count = 0\n",
        "    # Variable to hold the total sum of the repeated subjects\n",
        "    total_freq=0\n",
        "\n",
        "    # Iterate through the subjects chosen by students\n",
        "    for subject in subjects:\n",
        "        # If the subject is already in the dictionary, it's a duplicate\n",
        "        if subject in subject_count:\n",
        "            subject_count[subject] += 1\n",
        "        # Initialize count for the second occurrence\n",
        "            count += 1\n",
        "        # Otherwise, add it to the dictionary\n",
        "        else: subject_count[subject] = 1\n",
        "\n",
        "    # Check if there are at least one repeated subject\n",
        "    if count > 0:\n",
        "        print(\"Repeated subjects and their counts:\")\n",
        "        # Loop over the subjects and their repeatition\n",
        "        for subject, freq in subject_count.items():\n",
        "            # if the subject appears more than once\n",
        "            if freq != 1:\n",
        "                # Print the subject and its frequency\n",
        "                print(f\"{subject}: {freq}\")\n",
        "                # Total frequency is the total number of students who chosen the same subjects\n",
        "                total_freq += freq\n",
        "        return total_freq\n",
        "    else:\n",
        "        # No repeated subjects found\n",
        "        return None\n",
        "\n",
        "\n",
        "def main():\n",
        "    # Number of students\n",
        "    num_students = 10\n",
        "    # Iteration variable\n",
        "    i = 0\n",
        "\n",
        "    # The subjects of which students can choose from\n",
        "    class_subjects = [\"qura'an\", \"islamic\", \"math\", \"history\", \"geography\", \"reading\",\n",
        "                      \"literature and rhetoric\", \"sciences\", \"english\"]\n",
        "    print(f\"Among the given subjects: {class_subjects}, choose one favorite subject only:\")\n",
        "    # Creat a list to hold students' choices\n",
        "    subjects = list()\n",
        "    # Iterate over the number of students\n",
        "    while i < num_students:\n",
        "        # Scan student choice from a user\n",
        "        scan= input(f\"Student '{i+1}': \")\n",
        "        # Change the inputed charecters to lower case to avoid mistakes\n",
        "        lowercase_subject = scan.lower()\n",
        "        # Check if the entered subject is in the subjects list or not\n",
        "        # If not ask the user to choose again\n",
        "        if lowercase_subject not in class_subjects:\n",
        "            print(f\"Please choose one of the given subjects only!\")\n",
        "        else:\n",
        "            # If it is, add it to the subjects list and encrement i by 1\n",
        "            subjects.append(lowercase_subject)\n",
        "            i= i+1\n",
        "    # function call\n",
        "    repeated_subject = calculate_repeated_subjects(subjects)\n",
        "    # if there are repeated subjects, use their total frequency\n",
        "    if repeated_subject is not None:\n",
        "        print(f\"Among {num_students} students, {repeated_subject} students have chosen the same subjects as their favourite subject, which means at least one subject has been chosen twice.\")\n",
        "    # if there are no repeated subjects\n",
        "    else:\n",
        "        print(f\"Among {num_students} students, no students have chosen the same favorite subject.\")\n",
        "if __name__ == \"__main__\":\n",
        "  main()"
      ]
    }
  ]
}